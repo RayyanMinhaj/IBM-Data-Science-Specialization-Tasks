{
  "nbformat": 4,
  "nbformat_minor": 0,
  "metadata": {
    "colab": {
      "provenance": []
    },
    "kernelspec": {
      "name": "python3",
      "display_name": "Python 3"
    },
    "language_info": {
      "name": "python"
    }
  },
  "cells": [
    {
      "cell_type": "markdown",
      "source": [
        "#Peer Graded Assignment by RM for the IBM Data Science Course (Title)\n"
      ],
      "metadata": {
        "id": "23mP2xC2GGnt"
      }
    },
    {
      "cell_type": "markdown",
      "source": [
        "##Introduction\n",
        "Hello reader! My name is RM and I'm an aspiring Data Scientist. I hope you're as excited to review this as I am on starting my journey."
      ],
      "metadata": {
        "id": "Qhhl8RIqGp0y"
      }
    },
    {
      "cell_type": "markdown",
      "source": [
        "##Data Science Languages\n",
        "- Python\n",
        "- R\n",
        "- C++\n",
        "- Java/JavaScript\n",
        "- Julia\n",
        "- Scala\n"
      ],
      "metadata": {
        "id": "SXVkKfh9HE40"
      }
    },
    {
      "cell_type": "markdown",
      "source": [
        "## Data Science Libraries\n",
        "- TensorFlow\n",
        "- PyTorch\n",
        "- Keras\n",
        "- Sickit-Learn"
      ],
      "metadata": {
        "id": "1U8QZOdKHUuA"
      }
    },
    {
      "cell_type": "markdown",
      "source": [
        "## Data Science Tools\n",
        "- Jupyter Notebook\n",
        "- Git/GitHub\n",
        "- Google Colab\n",
        "- Spyder\n",
        "- Jupyter Lab/Lite"
      ],
      "metadata": {
        "id": "QG8Eq3PtHkOZ"
      }
    },
    {
      "cell_type": "markdown",
      "source": [
        "##Arithmetic Expressions Examples\n",
        "- x + y\n",
        "- x - y\n",
        "- x / y\n",
        "- x * y\n",
        "- x * * 2"
      ],
      "metadata": {
        "id": "-0BN0daCH5df"
      }
    },
    {
      "cell_type": "markdown",
      "source": [
        "##Code Cell to Multiply and Add Numbers"
      ],
      "metadata": {
        "id": "KAo_NwByIL9d"
      }
    },
    {
      "cell_type": "code",
      "source": [
        "a=2\n",
        "b=5\n",
        "\n",
        "x=a+b\n",
        "print(\"Addition: %d + %d = %d\" %(a,b,x))\n",
        "\n",
        "x=a*b\n",
        "print(\"Multiplication: %d x %d = %d\" %(a,b,x))\n"
      ],
      "metadata": {
        "colab": {
          "base_uri": "https://localhost:8080/"
        },
        "id": "JOHmwqtyHdD8",
        "outputId": "7e7271bd-83b6-42c3-d989-be32636fab11"
      },
      "execution_count": 2,
      "outputs": [
        {
          "output_type": "stream",
          "name": "stdout",
          "text": [
            "Addition: 2 + 5 = 7\n",
            "Multiplication: 2 x 5 = 10\n"
          ]
        }
      ]
    },
    {
      "cell_type": "markdown",
      "source": [
        "##Converting Minutes into Hours"
      ],
      "metadata": {
        "id": "ChJzJUpAIjzG"
      }
    },
    {
      "cell_type": "code",
      "source": [
        "min=120\n",
        "hours=min/60\n",
        "\n",
        "print(\"%d Minutes = %d Hours\" %(min, hours))"
      ],
      "metadata": {
        "colab": {
          "base_uri": "https://localhost:8080/"
        },
        "id": "TELwjGiFIedB",
        "outputId": "976f2d25-4a78-4ead-fe8d-a67bb35b2805"
      },
      "execution_count": 5,
      "outputs": [
        {
          "output_type": "stream",
          "name": "stdout",
          "text": [
            "120 Minutes = 2 Hours\n"
          ]
        }
      ]
    },
    {
      "cell_type": "markdown",
      "source": [
        "##**Objectives**\n",
        "- Learn Python\n",
        "- Learn how to build Models\n",
        "- Learn how to use pre-built Models\n",
        "- Learn different tools"
      ],
      "metadata": {
        "id": "1ixvvBgPI2p4"
      }
    },
    {
      "cell_type": "markdown",
      "source": [
        "##Author Name\n",
        "Rayyan M"
      ],
      "metadata": {
        "id": "bTvGHQDVJLhc"
      }
    },
    {
      "cell_type": "markdown",
      "source": [
        "##"
      ],
      "metadata": {
        "id": "pA2NLdrzJPfY"
      }
    },
    {
      "cell_type": "code",
      "source": [],
      "metadata": {
        "id": "JPoiSnc7Ivjf"
      },
      "execution_count": null,
      "outputs": []
    }
  ]
}