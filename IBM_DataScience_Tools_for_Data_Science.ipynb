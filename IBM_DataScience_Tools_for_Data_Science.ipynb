{
  "nbformat": 4,
  "nbformat_minor": 0,
  "metadata": {
    "colab": {
      "provenance": []
    },
    "kernelspec": {
      "name": "python3",
      "display_name": "Python 3"
    },
    "language_info": {
      "name": "python"
    }
  },
  "cells": [
    {
      "cell_type": "markdown",
      "source": [
        "# Data Science Tools and Ecosystem\n",
        "##Peer Graded Assignment by RM for the IBM Data Science Course (Title)\n"
      ],
      "metadata": {
        "id": "23mP2xC2GGnt"
      }
    },
    {
      "cell_type": "markdown",
      "source": [
        "##Introduction\n",
        "In this notebook, Data Science Tools and Ecosystems are summarized."
      ],
      "metadata": {
        "id": "Qhhl8RIqGp0y"
      }
    },
    {
      "cell_type": "markdown",
      "source": [
        "##Data Science Languages\n",
        "1. Python\n",
        "2. R\n",
        "3. C++\n",
        "4. Jave/JavaScript\n",
        "5. Scala\n"
      ],
      "metadata": {
        "id": "SXVkKfh9HE40"
      }
    },
    {
      "cell_type": "markdown",
      "source": [
        "## Data Science Libraries\n",
        "1. TensorFlow\n",
        "2. PyTorch\n",
        "3. Keras\n",
        "4. Sickit-Learn"
      ],
      "metadata": {
        "id": "1U8QZOdKHUuA"
      }
    },
    {
      "cell_type": "markdown",
      "source": [
        "Data Science Tools | /\n",
        "-------------------|------------------\n",
        "Jupyter Notebook       |  \n",
        "Git/GitHub       |\n",
        "Spyder |\n",
        "Google Colaboratory\n"
      ],
      "metadata": {
        "id": "QG8Eq3PtHkOZ"
      }
    },
    {
      "cell_type": "markdown",
      "source": [
        "##Arithmetic Expressions Examples\n",
        "- x + y\n",
        "- x - y\n",
        "- x / y\n",
        "- x * y\n",
        "- x * * 2"
      ],
      "metadata": {
        "id": "-0BN0daCH5df"
      }
    },
    {
      "cell_type": "markdown",
      "source": [
        "###Below are a few examples of evaluating arithmetic expressions in Python"
      ],
      "metadata": {
        "id": "KAo_NwByIL9d"
      }
    },
    {
      "cell_type": "code",
      "source": [
        "print((3*4)+5)\n"
      ],
      "metadata": {
        "colab": {
          "base_uri": "https://localhost:8080/"
        },
        "id": "JOHmwqtyHdD8",
        "outputId": "ae81be9c-eaf0-4bf9-9c35-c90211cc3b63"
      },
      "execution_count": 6,
      "outputs": [
        {
          "output_type": "stream",
          "name": "stdout",
          "text": [
            "17\n"
          ]
        }
      ]
    },
    {
      "cell_type": "markdown",
      "source": [
        "##Converting Minutes into Hours"
      ],
      "metadata": {
        "id": "ChJzJUpAIjzG"
      }
    },
    {
      "cell_type": "code",
      "source": [
        "min=200\n",
        "hours=min/60\n",
        "\n",
        "print(\"%d Minutes = %d Hours\" %(min, hours))"
      ],
      "metadata": {
        "colab": {
          "base_uri": "https://localhost:8080/"
        },
        "id": "TELwjGiFIedB",
        "outputId": "3a3008da-587c-47bb-a103-4796a1df087e"
      },
      "execution_count": 7,
      "outputs": [
        {
          "output_type": "stream",
          "name": "stdout",
          "text": [
            "200 Minutes = 3 Hours\n"
          ]
        }
      ]
    },
    {
      "cell_type": "markdown",
      "source": [
        "##**Objectives**\n",
        "- Learn Python\n",
        "- Learn how to build Models\n",
        "- Learn how to use pre-built Models\n",
        "- Learn different tools"
      ],
      "metadata": {
        "id": "1ixvvBgPI2p4"
      }
    },
    {
      "cell_type": "markdown",
      "source": [
        "##Author Name\n",
        "Rayyan M"
      ],
      "metadata": {
        "id": "bTvGHQDVJLhc"
      }
    },
    {
      "cell_type": "code",
      "source": [],
      "metadata": {
        "id": "JPoiSnc7Ivjf"
      },
      "execution_count": null,
      "outputs": []
    }
  ]
}